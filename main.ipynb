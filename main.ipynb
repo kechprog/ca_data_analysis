{
 "cells": [
  {
   "cell_type": "code",
   "execution_count": 2,
   "metadata": {},
   "outputs": [],
   "source": [
    "import pandas as pd\n",
    "import numpy as np\n",
    "import matplotlib.pyplot as plt"
   ]
  },
  {
   "attachments": {},
   "cell_type": "markdown",
   "metadata": {},
   "source": [
    "BELOW IS THE WIN RATES, AND AFFECT OF THEM DEPENDING ON THE SITUATION, HOME OR AWAY"
   ]
  },
  {
   "cell_type": "code",
   "execution_count": 29,
   "metadata": {},
   "outputs": [
    {
     "name": "stdout",
     "output_type": "stream",
     "text": [
      "home_win_rate: 0.3271399357288928\n",
      "away_win_rate: 0.2804293876608761\n"
     ]
    }
   ],
   "source": [
    "df = pd.read_csv('./data/processed/games.csv')\n",
    "home_win_rate = df[df['home_or_away'] == 'HOME']['result'].value_counts(normalize=True)['Win']\n",
    "away_win_rate = df[df['home_or_away'] == 'AWAY']['result'].value_counts(normalize=True)['Win']\n",
    "\n",
    "print(f'home_win_rate: {home_win_rate}')\n",
    "print(f'away_win_rate: {away_win_rate}')"
   ]
  },
  {
   "cell_type": "code",
   "execution_count": 20,
   "metadata": {},
   "outputs": [],
   "source": []
  }
 ],
 "metadata": {
  "kernelspec": {
   "display_name": ".venv",
   "language": "python",
   "name": "python3"
  },
  "language_info": {
   "codemirror_mode": {
    "name": "ipython",
    "version": 3
   },
   "file_extension": ".py",
   "mimetype": "text/x-python",
   "name": "python",
   "nbconvert_exporter": "python",
   "pygments_lexer": "ipython3",
   "version": "3.11.3"
  },
  "orig_nbformat": 4
 },
 "nbformat": 4,
 "nbformat_minor": 2
}
